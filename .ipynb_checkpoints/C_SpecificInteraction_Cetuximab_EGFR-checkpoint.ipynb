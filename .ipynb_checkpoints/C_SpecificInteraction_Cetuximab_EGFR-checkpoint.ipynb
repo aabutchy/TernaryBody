{
 "cells": [
  {
   "cell_type": "markdown",
   "metadata": {},
   "source": [
    "# Modeling the Cetuximab-EGFR interaction\n",
    "This is a simple script for modeling the antibody (Cetuximab) interaction with the EGFR receptor on Tumor cells in T Cell Therapy. Here we walk through the process of simulating this complex ternary body interaction as it is implemented in python.\n",
    "\n",
    "### Importing the important packages to simulate the model."
   ]
  },
  {
   "cell_type": "code",
   "execution_count": 4,
   "metadata": {},
   "outputs": [],
   "source": [
    "import matplotlib.gridspec as gridspec\n",
    "from scipy.integrate import odeint\n",
    "import matplotlib.pyplot as plt\n",
    "import numpy as np"
   ]
  },
  {
   "cell_type": "markdown",
   "metadata": {},
   "source": [
    "### Input of key variables\n",
    "Here are the values we used to model the Cetuximab-EGFR interaction. "
   ]
  },
  {
   "cell_type": "code",
   "execution_count": 168,
   "metadata": {},
   "outputs": [],
   "source": [
    "Antibody_dissociation = 0.38            #(units = nM) Dissociation constant of antibody in nM\n",
    "number_of_receptors_per_Tcell = 100000  #(units = molecules per cell) Receptors per T cell\n",
    "number_of_receptors_per_tumor = 300000  #(units = molecules per cell) Receptors per Tumor cell\n",
    "alpha = 1.1                             #Cooperativity rate \n",
    "                                        #####   Cooperativity   #####\n",
    "                                        # (0 to 1)  is negative cooperativity\n",
    "                                        # (1)       is no cooperativitiy\n",
    "                                        # (1 to inifinity) is positive cooperativity"
   ]
  },
  {
   "cell_type": "markdown",
   "metadata": {},
   "source": [
    "### Calculation of key variables and parameterization of the system of ODEs \n",
    "Please note that since we are interested in equilibrium concentrations, the rates of reactions are not incredibly important; rather, the ratio of forward rates to backward rates (association and dissociation equilibirum constants) are what dictate equilibirum concentrations."
   ]
  },
  {
   "cell_type": "code",
   "execution_count": 169,
   "metadata": {},
   "outputs": [],
   "source": [
    "#Variables given for the experimental setup\n",
    "Avogadro_number = 6.022140857 * (10**23)                 #Avogadro's Number of Molecules per mole\n",
    "reaction_volume = 150                                    #150 uL reaction volume\n",
    "number_of_Snap_Tcells = 150000                           #150,000 T Cells in reaction\n",
    "number_of_tumor_cells = 400000                           #400,000 Tumor Cells in reaction      \n",
    "\n",
    "#Calculating the initial molecular concentrations\n",
    "Concentration_of_T_Cells = number_of_Snap_Tcells * number_of_receptors_per_Tcell * \\\n",
    "                               (10**6) * (10**9) * (1/Avogadro_number) * (1/reaction_volume)\n",
    "Concentration_of_Tumor_Cells = number_of_tumor_cells * number_of_receptors_per_tumor * \\\n",
    "                               (10**6) * (10**9) * (1/Avogadro_number) * (1/reaction_volume)\n",
    "Concentration_of_Antibody = 1 #Necessary to initialize the simulation, actual value is a range\n",
    "\n",
    "#Calculating the kinetic parameters - since we only have equilibrium data, we are interested in ratios, not the rates themselves\n",
    "k_binding_snap_to_antibody = 1                               #Assumes quick binding for simulation\n",
    "k_release_snap_to_antibody = 0  #No release due to covalent bond\n",
    "k_binding_antibody_to_tumor = 1                              #Assumes quick binding for simulation\n",
    "\n",
    "#The following reaction rate accounts for the nM units of user input\n",
    "k_release_antibody_to_tumor = k_binding_antibody_to_tumor * Antibody_dissociation * 10**-9 \n",
    "k_cooperativity_binding_snap = k_binding_snap_to_antibody * alpha     #Accounts for Cooperativity\n",
    "k_cooperativity_releasing_snap = k_release_snap_to_antibody * alpha   #Accounts for Cooperativity\n",
    "k_cooperativity_binding_tumor = k_binding_antibody_to_tumor * alpha   #Accounts for Cooperativity\n",
    "k_cooperativity_releasing_tumor = k_release_antibody_to_tumor * alpha #Accounts for Cooperativity\n",
    "\n",
    "#Saving the variables for simulation\n",
    "k = [k_binding_snap_to_antibody,k_release_snap_to_antibody,k_binding_antibody_to_tumor,\\\n",
    "     k_release_antibody_to_tumor,k_cooperativity_binding_snap,k_cooperativity_releasing_snap,\\\n",
    "     k_cooperativity_binding_tumor,k_cooperativity_releasing_tumor]\n",
    "Initial = [Concentration_of_T_Cells,Concentration_of_Antibody,Concentration_of_Tumor_Cells,0,0,0]\n",
    "time = np.linspace(0,1000000,1000)"
   ]
  },
  {
   "cell_type": "markdown",
   "metadata": {},
   "source": [
    "### The function of ODEs for simulation\n",
    "Here is where the rates, concentrations, and reactions are defined for simulation. Due to the nature of this function, only initial concentrations (C) and time (t) can be sent to the function. A global variable (k) with all the calculated rate constants are sent separately. The function returns the rates of change for each concentration."
   ]
  },
  {
   "cell_type": "code",
   "execution_count": 170,
   "metadata": {},
   "outputs": [],
   "source": [
    "def rxn(C,t):\n",
    "    #Loading the global variable reaction rates\n",
    "    kf1 = k[0]                                             \n",
    "    kr1 = k[1]                                             \n",
    "    kf2 = k[2]                                             \n",
    "    kr2 = k[3]                                             \n",
    "    kf3 = k[4]                                             \n",
    "    kr3 = k[5]                                             \n",
    "    kf4 = k[6]                                             \n",
    "    kr4 = k[7]        \n",
    "    \n",
    "    #Loading the initial concentrations\n",
    "    C_snap = C[0]                   #initial concentration of free T Cell receptor\n",
    "    C_anti = C[1]                   #initial concentration of free antibody\n",
    "    C_tumo = C[2]                   #initial concentration of free Tumor cell receptor\n",
    "    C_snap_anti = C[3]              #initial concentration of bound T Cell - Antibody\n",
    "    C_anti_tumo = C[4]              #initial concentration of bound Tumor Cell - Antibody\n",
    "    C_snap_anti_tumo = C[5]         #initial concentration of Ternary Body\n",
    "    \n",
    "    #Separation of key equation terms for simplicity\n",
    "    term1 = kf1 * C_snap * C_anti           #binding of Tcell to antibody\n",
    "    term2 = kr1 * C_snap_anti               #dissociation of Tcell - antibody\n",
    "    term3 = kf2 * C_anti * C_tumo           #binding of TumorCell to antibody\n",
    "    term4 = kr2 * C_anti_tumo               #dissociation of TumorCell - antibody\n",
    "    term5 = kf3 * C_snap_anti * C_tumo      #binding of Tcell-antibody to Tumor Cell\n",
    "    term6 = kr3 * C_snap_anti_tumo          #dissociation of Ternary Body\n",
    "    term7 = kf4 * C_anti_tumo * C_snap      #binding of TumorCell-antibody to T Cell\n",
    "    term8 = kr4 * C_snap_anti_tumo          #dissociation of Ternary Body\n",
    "    \n",
    "    #ODEs that model the dynamic change in concentration of each chemical species\n",
    "    d_C_snap_dt = - term1 + term2 - term7 + term8           #change in free T Cell receptor\n",
    "    d_C_anti_dt = - term1 + term2 - term3 + term4           #change in free antibody\n",
    "    d_C_tumo_dt = - term3 + term4 - term5 + term6           #change in free Tumor cell receptor\n",
    "    d_C_snap_anti_dt = + term1 - term2 - term5 + term6      #change in bound T Cell - Antibody\n",
    "    d_C_anti_tumo_dt = + term3 - term4 - term7 + term8      #change in bound Tumor Cell - Antibody\n",
    "    d_C_snap_anti_tumo_dt = + term5 - term6 + term7 - term8 #change in Ternary Body\n",
    "    \n",
    "    return([d_C_snap_dt,d_C_anti_dt,d_C_tumo_dt,d_C_snap_anti_dt,\\\n",
    "            d_C_anti_tumo_dt,d_C_snap_anti_tumo_dt])"
   ]
  },
  {
   "cell_type": "markdown",
   "metadata": {},
   "source": [
    "### Simulation and Plotting Ternary Body Formation at  Equilibrium over a range of antibody concentrations\n",
    "Here we examine the ideal antibody concentration based on the antibody-target interaction parameters input above. Using the exact same system of ODEs for the kinetic simulation and examining the concentration of the Ternary Body at equilibrium, we are able to observe Figure 2, below. "
   ]
  },
  {
   "cell_type": "code",
   "execution_count": 171,
   "metadata": {},
   "outputs": [],
   "source": [
    "#Specifying the number of simulations and over the range of antibody concentration (in log space)\n",
    "N = 100\n",
    "ternary_body = []\n",
    "antibody_range = np.logspace(-3,1,N)\n",
    "\n",
    "#Simulating the kinetic model repeatedly and saving the final concentration.\n",
    "for i in antibody_range:\n",
    "    Initial[1] = i\n",
    "    C = odeint(rxn,Initial,time)\n",
    "    ternary_body.append(float((C[100,5])))"
   ]
  },
  {
   "cell_type": "code",
   "execution_count": 174,
   "metadata": {},
   "outputs": [
    {
     "data": {
      "image/png": "[encoded data removed]",
      "text/plain": [
       "<Figure size 600x400 with 1 Axes>"
      ]
     },
     "metadata": {
      "needs_background": "light"
     },
     "output_type": "display_data"
    }
   ],
   "source": [
    "#Create the figure and set the layout\n",
    "fig = plt.figure(figsize=(6, 4), dpi=100)\n",
    "gs1 = gridspec.GridSpec(1, 1)\n",
    "ax = fig.add_subplot(gs1[0])\n",
    "\n",
    "#Plot the results\n",
    "ax.plot(antibody_range,ternary_body,linewidth=2.0)\n",
    "plt.xlabel('Concentration of Antibody (nM)')\n",
    "plt.ylabel('Concentration of ABC (nM)')\n",
    "plt.xscale(\"log\")\n",
    "plt.ylim(0,0.5)\n",
    "legend_string = 'Kd = '+ str(Antibody_dissociation) + ' nM'\n",
    "ax.legend([legend_string])\n",
    "\n",
    "# Shrink current axis by 20%\n",
    "box = ax.get_position()\n",
    "ax.set_position([box.x0, box.y0, box.width * 0.8, box.height])\n",
    "\n",
    "# Put a legend to the right of the current axis\n",
    "ax.legend(['Cetuximab'],loc='center left', bbox_to_anchor=(1, 0.5))\n",
    "\n",
    "#Creating the plot, saving it, and showing it\n",
    "gs1.tight_layout(fig)\n",
    "gs1.tight_layout(fig, rect=[0, 0, 1, 1])\n",
    "plt.savefig('Figures/Figure4_Cetuximab.png')\n",
    "plt.show()"
   ]
  }
 ],
 "metadata": {
  "anaconda-cloud": {},
  "kernelspec": {
   "display_name": "Python [conda root]",
   "language": "python",
   "name": "conda-root-py"
  },
  "language_info": {
   "codemirror_mode": {
    "name": "ipython",
    "version": 3
   },
   "file_extension": ".py",
   "mimetype": "text/x-python",
   "name": "python",
   "nbconvert_exporter": "python",
   "pygments_lexer": "ipython3",
   "version": "3.5.5"
  }
 },
 "nbformat": 4,
 "nbformat_minor": 2
}

{
 "cells": [
  {
   "cell_type": "code",
   "execution_count": null,
   "metadata": {},
   "outputs": [],
   "source": []
  },
  {
   "cell_type": "code",
   "execution_count": 1,
   "metadata": {},
   "outputs": [],
   "source": [
    "import matplotlib.gridspec as gridspec\n",
    "from scipy.integrate import odeint\n",
    "from TernaryBody_setup import rxn\n",
    "import matplotlib.pyplot as plt\n",
    "import numpy as np"
   ]
  },
  {
   "cell_type": "code",
   "execution_count": null,
   "metadata": {},
   "outputs": [],
   "source": []
  },
  {
   "cell_type": "markdown",
   "metadata": {},
   "source": [
    "### Simulation and Plotting Equilibrium Concentrations over a Range of Antibody Release Rates\n",
    "\n",
    "In this analysis, we simulate the same situation as above but varying the antibody unbinding rate. We will be scanning a logarithmic space from 10e-12 to 10e-6. Please note that the analysis above took place at Kd of 15 * 10e-9 (or 15 nM)."
   ]
  },
  {
   "cell_type": "code",
   "execution_count": 2,
   "metadata": {},
   "outputs": [
    {
     "name": "stdout",
     "output_type": "stream",
     "text": [
      "0.1\n"
     ]
    },
    {
     "ename": "NameError",
     "evalue": "name 'alpha' is not defined",
     "output_type": "error",
     "traceback": [
      "\u001b[0;31m---------------------------------------------------------------------------\u001b[0m",
      "\u001b[0;31mNameError\u001b[0m                                 Traceback (most recent call last)",
      "\u001b[0;32m<ipython-input-2-54feab713596>\u001b[0m in \u001b[0;36m<module>\u001b[0;34m()\u001b[0m\n\u001b[1;32m      9\u001b[0m     \u001b[0mk_release_antibody_to_tumor\u001b[0m \u001b[0;34m=\u001b[0m \u001b[0mk_binding_antibody_to_tumor\u001b[0m \u001b[0;34m*\u001b[0m \u001b[0mAntibody_dissociation\u001b[0m \u001b[0;34m*\u001b[0m \u001b[0;36m10\u001b[0m\u001b[0;34m**\u001b[0m\u001b[0;34m-\u001b[0m\u001b[0;36m9\u001b[0m\u001b[0;34m\u001b[0m\u001b[0m\n\u001b[1;32m     10\u001b[0m     \u001b[0mprint\u001b[0m\u001b[0;34m(\u001b[0m\u001b[0mk_release_snap_to_antibody\u001b[0m\u001b[0;34m)\u001b[0m\u001b[0;34m\u001b[0m\u001b[0m\n\u001b[0;32m---> 11\u001b[0;31m     \u001b[0mk_cooperativity_binding_snap\u001b[0m \u001b[0;34m=\u001b[0m \u001b[0mk_binding_snap_to_antibody\u001b[0m \u001b[0;34m*\u001b[0m \u001b[0malpha\u001b[0m\u001b[0;34m\u001b[0m\u001b[0m\n\u001b[0m\u001b[1;32m     12\u001b[0m     \u001b[0mk_cooperativity_releasing_snap\u001b[0m \u001b[0;34m=\u001b[0m \u001b[0mk_release_snap_to_antibody\u001b[0m \u001b[0;34m*\u001b[0m \u001b[0malpha\u001b[0m\u001b[0;34m\u001b[0m\u001b[0m\n\u001b[1;32m     13\u001b[0m     \u001b[0mk_cooperativity_binding_tumor\u001b[0m \u001b[0;34m=\u001b[0m \u001b[0mk_binding_antibody_to_tumor\u001b[0m \u001b[0;34m*\u001b[0m \u001b[0malpha\u001b[0m\u001b[0;34m\u001b[0m\u001b[0m\n",
      "\u001b[0;31mNameError\u001b[0m: name 'alpha' is not defined"
     ]
    }
   ],
   "source": [
    "data = []\n",
    "dissociation_range = np.logspace(-1,2,num=10, endpoint=True, base=10.0)\n",
    "for dissociation_rate in dissociation_range:\n",
    "    Antibody_dissociation = 15\n",
    "    #Calculating the Kinetic Parameters - since we only have equilibrium data, we are interested in ratios, not numbers\n",
    "    k_binding_snap_to_antibody = 10**-0                      #\n",
    "    k_release_snap_to_antibody = dissociation_rate  #Scanning the dissociation rate\n",
    "    k_binding_antibody_to_tumor = 10**-0#\n",
    "    k_release_antibody_to_tumor = k_binding_antibody_to_tumor * Antibody_dissociation * 10**-9\n",
    "    print(k_release_snap_to_antibody)\n",
    "    k_cooperativity_binding_snap = k_binding_snap_to_antibody * alpha\n",
    "    k_cooperativity_releasing_snap = k_release_snap_to_antibody * alpha\n",
    "    k_cooperativity_binding_tumor = k_binding_antibody_to_tumor * alpha\n",
    "    k_cooperativity_releasing_tumor = k_release_antibody_to_tumor * alpha\n",
    "    k = [k_binding_snap_to_antibody,k_release_snap_to_antibody,k_binding_antibody_to_tumor,k_release_antibody_to_tumor,k_cooperativity_binding_snap,k_cooperativity_releasing_snap,k_cooperativity_binding_tumor,k_cooperativity_releasing_tumor]\n",
    "    \n",
    "    N = 100\n",
    "    antibody_range = np.logspace(-3,1,N)\n",
    "    ternary_body = []\n",
    "    for i in antibody_range:\n",
    "        Initial[1] = i\n",
    "        C = odeint(rxn,Initial,time)\n",
    "        ternary_body.append(float((C[100,5])))\n",
    "    data.append(ternary_body)"
   ]
  },
  {
   "cell_type": "code",
   "execution_count": 3,
   "metadata": {},
   "outputs": [
    {
     "ename": "NameError",
     "evalue": "name 'antibody_range' is not defined",
     "output_type": "error",
     "traceback": [
      "\u001b[0;31m---------------------------------------------------------------------------\u001b[0m",
      "\u001b[0;31mNameError\u001b[0m                                 Traceback (most recent call last)",
      "\u001b[0;32m<ipython-input-3-a6bee3cad32a>\u001b[0m in \u001b[0;36m<module>\u001b[0;34m()\u001b[0m\n\u001b[1;32m      4\u001b[0m \u001b[0max\u001b[0m \u001b[0;34m=\u001b[0m \u001b[0mfig\u001b[0m\u001b[0;34m.\u001b[0m\u001b[0madd_subplot\u001b[0m\u001b[0;34m(\u001b[0m\u001b[0mgs1\u001b[0m\u001b[0;34m[\u001b[0m\u001b[0;36m0\u001b[0m\u001b[0;34m]\u001b[0m\u001b[0;34m)\u001b[0m\u001b[0;34m\u001b[0m\u001b[0m\n\u001b[1;32m      5\u001b[0m \u001b[0;32mfor\u001b[0m \u001b[0mi\u001b[0m \u001b[0;32min\u001b[0m \u001b[0mrange\u001b[0m\u001b[0;34m(\u001b[0m\u001b[0;36m0\u001b[0m\u001b[0;34m,\u001b[0m\u001b[0;36m10\u001b[0m\u001b[0;34m)\u001b[0m\u001b[0;34m:\u001b[0m\u001b[0;34m\u001b[0m\u001b[0m\n\u001b[0;32m----> 6\u001b[0;31m     \u001b[0max\u001b[0m\u001b[0;34m.\u001b[0m\u001b[0mplot\u001b[0m\u001b[0;34m(\u001b[0m\u001b[0mantibody_range\u001b[0m\u001b[0;34m,\u001b[0m\u001b[0mdata\u001b[0m\u001b[0;34m[\u001b[0m\u001b[0mi\u001b[0m\u001b[0;34m]\u001b[0m\u001b[0;34m,\u001b[0m\u001b[0mlinewidth\u001b[0m\u001b[0;34m=\u001b[0m\u001b[0;36m2.0\u001b[0m\u001b[0;34m)\u001b[0m\u001b[0;34m\u001b[0m\u001b[0m\n\u001b[0m\u001b[1;32m      7\u001b[0m \u001b[0;34m\u001b[0m\u001b[0m\n\u001b[1;32m      8\u001b[0m \u001b[0;31m# ax.plot(antibody_range,data[0],linewidth=2.0)\u001b[0m\u001b[0;34m\u001b[0m\u001b[0;34m\u001b[0m\u001b[0m\n",
      "\u001b[0;31mNameError\u001b[0m: name 'antibody_range' is not defined"
     ]
    },
    {
     "data": {
      "image/png": "[encoded data removed]",
      "text/plain": [
       "<Figure size 600x400 with 1 Axes>"
      ]
     },
     "metadata": {
      "needs_background": "light"
     },
     "output_type": "display_data"
    }
   ],
   "source": [
    "fig = plt.figure(figsize=(6, 4), dpi=100)\n",
    "\n",
    "gs1 = gridspec.GridSpec(1, 1)\n",
    "ax = fig.add_subplot(gs1[0])\n",
    "for i in range(0,10):\n",
    "    ax.plot(antibody_range,data[i],linewidth=2.0)\n",
    "    \n",
    "# ax.plot(antibody_range,data[0],linewidth=2.0)\n",
    "# ax.plot(antibody_range,data[1],linewidth=2.0)\n",
    "# ax.plot(antibody_range,data[2],linewidth=2.0)\n",
    "# ax.plot(antibody_range,data[3],linewidth=2.0)\n",
    "# ax.plot(antibody_range,data[4],linewidth=2.0)\n",
    "# ax.plot(antibody_range,data[5],linewidth=2.0)\n",
    "# ax.plot(antibody_range,data[6],linewidth=2.0)\n",
    "\n",
    "plt.xlabel('Concentration of Antibody (nM)')\n",
    "plt.ylabel('Concentration of ABC (nM)')\n",
    "plt.xscale(\"log\")\n",
    "# ax.legend(['Kd = 15 nM'])\n",
    "\n",
    "# Shrink current axis by 20%\n",
    "box = ax.get_position()\n",
    "ax.set_position([box.x0, box.y0, box.width * 0.8, box.height])\n",
    "\n",
    "# Put a legend to the right of the current axis\n",
    "# ax.legend(['Kd = 10e-12','Kd = 10e-11','Kd = 10e-10','Kd = 10e-9','Kd = 10e-8','Kd = 10e-7','Kd = 10e-6'],loc='center left', bbox_to_anchor=(1, 0.5))\n",
    "\n",
    "gs1.tight_layout(fig)\n",
    "gs1.tight_layout(fig, rect=[0, 0, 1, 1])\n",
    "plt.savefig('Graph1.png')\n",
    "plt.show()"
   ]
  },
  {
   "cell_type": "code",
   "execution_count": null,
   "metadata": {},
   "outputs": [],
   "source": []
  }
 ],
 "metadata": {
  "kernelspec": {
   "display_name": "Python [conda root]",
   "language": "python",
   "name": "conda-root-py"
  },
  "language_info": {
   "codemirror_mode": {
    "name": "ipython",
    "version": 3
   },
   "file_extension": ".py",
   "mimetype": "text/x-python",
   "name": "python",
   "nbconvert_exporter": "python",
   "pygments_lexer": "ipython3",
   "version": "3.5.5"
  }
 },
 "nbformat": 4,
 "nbformat_minor": 2
}
